{
 "cells": [
  {
   "cell_type": "code",
   "execution_count": 8,
   "id": "ff102edf",
   "metadata": {},
   "outputs": [],
   "source": [
    "import pandas as pd\n",
    "import numpy as np\n",
    "import matplotlib.pyplot as plt\n",
    "import seaborn as sns\n",
    "from sklearn.model_selection import train_test_split\n",
    "from sklearn.pipeline import Pipeline\n",
    "from sklearn.compose import ColumnTransformer\n",
    "from sklearn.preprocessing import StandardScaler, MinMaxScaler, OneHotEncoder\n",
    "from sklearn.linear_model import LinearRegression\n",
    "from sklearn.svm import SVR\n",
    "from sklearn.tree import DecisionTreeRegressor\n",
    "from sklearn.ensemble import RandomForestRegressor\n",
    "from sklearn.metrics import mean_squared_error\n",
    "import pandas as pd\n",
    "import time"
   ]
  },
  {
   "cell_type": "code",
   "execution_count": 9,
   "id": "70323990",
   "metadata": {},
   "outputs": [],
   "source": [
    "dataset = pd.read_parquet('../data/clean/50_Startups.parquet')"
   ]
  },
  {
   "cell_type": "code",
   "execution_count": 10,
   "id": "9d341fac",
   "metadata": {},
   "outputs": [
    {
     "data": {
      "text/plain": [
       "Index(['RND', 'ADMIN', 'MRK_S', 'STATE', 'PROFIT'], dtype='object')"
      ]
     },
     "execution_count": 10,
     "metadata": {},
     "output_type": "execute_result"
    }
   ],
   "source": [
    "dataset.columns"
   ]
  },
  {
   "cell_type": "code",
   "execution_count": 11,
   "id": "ba3f7151",
   "metadata": {},
   "outputs": [],
   "source": [
    "target = ['PROFIT']\n",
    "numerical_features = ['RND', 'ADMIN', 'MRK_S']\n",
    "categorical_features = ['STATE']"
   ]
  },
  {
   "cell_type": "code",
   "execution_count": 12,
   "id": "71dff510",
   "metadata": {},
   "outputs": [],
   "source": [
    "X = dataset.drop(columns=target, axis=1)\n",
    "y = dataset[target]"
   ]
  },
  {
   "cell_type": "code",
   "execution_count": 13,
   "id": "08b00154",
   "metadata": {},
   "outputs": [],
   "source": [
    "X_train, X_test, y_train, y_test = train_test_split(X, y, test_size=0.2, random_state=0)"
   ]
  },
  {
   "cell_type": "code",
   "execution_count": 14,
   "id": "1da82368",
   "metadata": {},
   "outputs": [],
   "source": [
    "regressors = [\n",
    "    LinearRegression(),\n",
    "    SVR(),\n",
    "    DecisionTreeRegressor(random_state=0),\n",
    "    RandomForestRegressor(n_estimators=100, random_state=0)\n",
    "]"
   ]
  },
  {
   "cell_type": "code",
   "execution_count": null,
   "id": "1494e629",
   "metadata": {},
   "outputs": [],
   "source": [
    "num_transformers = [StandardScaler(), MinMaxScaler()]\n",
    "cat_transformers = [OneHotEncoder(drop='first', handle_unknown='ignore')]"
   ]
  },
  {
   "cell_type": "code",
   "execution_count": 16,
   "id": "85aed513",
   "metadata": {},
   "outputs": [
    {
     "name": "stdout",
     "output_type": "stream",
     "text": [
      "                   model num_transformer cat_transformer           mse  \\\n",
      "5  DecisionTreeRegressor    MinMaxScaler   OneHotEncoder   35225563.35   \n",
      "4  DecisionTreeRegressor  StandardScaler   OneHotEncoder   35225563.35   \n",
      "7  RandomForestRegressor    MinMaxScaler   OneHotEncoder   38318880.21   \n",
      "6  RandomForestRegressor  StandardScaler   OneHotEncoder   38318880.21   \n",
      "1       LinearRegression    MinMaxScaler   OneHotEncoder   83502864.03   \n",
      "0       LinearRegression  StandardScaler   OneHotEncoder   83502864.03   \n",
      "2                    SVR  StandardScaler   OneHotEncoder 1483093113.82   \n",
      "3                    SVR    MinMaxScaler   OneHotEncoder 1483260464.42   \n",
      "\n",
      "   train_time  \n",
      "5        0.01  \n",
      "4        0.01  \n",
      "7        0.18  \n",
      "6        0.24  \n",
      "1        0.01  \n",
      "0        0.01  \n",
      "2        0.01  \n",
      "3        0.01  \n"
     ]
    }
   ],
   "source": [
    "results = []\n",
    "\n",
    "for reg in regressors:\n",
    "    for num_tr in num_transformers:\n",
    "        for cat_tr in cat_transformers:\n",
    "\n",
    "            preprocessor = ColumnTransformer([\n",
    "                ('num', num_tr, numerical_features),\n",
    "                ('cat', cat_tr, categorical_features)\n",
    "            ], remainder='drop')\n",
    "\n",
    "            pipeline = Pipeline([\n",
    "                ('preprocessor', preprocessor),\n",
    "                ('regressor', reg)\n",
    "            ])\n",
    "\n",
    "            start = time.time()\n",
    "            pipeline.fit(X_train, y_train.squeeze())\n",
    "            end = time.time()\n",
    "\n",
    "            y_pred = pipeline.predict(X_test)\n",
    "            mse = mean_squared_error(y_test, y_pred)\n",
    "\n",
    "            results.append({\n",
    "                'model': reg.__class__.__name__,\n",
    "                'num_transformer': num_tr.__class__.__name__,\n",
    "                'cat_transformer': cat_tr.__class__.__name__,\n",
    "                'mse': mse,\n",
    "                'train_time': round(end - start, 2)\n",
    "            })\n",
    "\n",
    "# Do DataFrame\n",
    "pd.set_option('display.float_format', lambda x: '%.2f' % x)\n",
    "results_df = pd.DataFrame(results)\n",
    "print(results_df.sort_values(by='mse'))"
   ]
  },
  {
   "cell_type": "markdown",
   "id": "b4cc9e0b",
   "metadata": {},
   "source": [
    "The Decision Tree Regressor recived the best results (lowest MSE)"
   ]
  }
 ],
 "metadata": {
  "kernelspec": {
   "display_name": "venv",
   "language": "python",
   "name": "python3"
  },
  "language_info": {
   "codemirror_mode": {
    "name": "ipython",
    "version": 3
   },
   "file_extension": ".py",
   "mimetype": "text/x-python",
   "name": "python",
   "nbconvert_exporter": "python",
   "pygments_lexer": "ipython3",
   "version": "3.13.2"
  }
 },
 "nbformat": 4,
 "nbformat_minor": 5
}
